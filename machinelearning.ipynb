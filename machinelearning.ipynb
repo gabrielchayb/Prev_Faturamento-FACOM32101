{
 "cells": [
  {
   "cell_type": "code",
   "execution_count": 6,
   "id": "a5ec2865-6cfe-42eb-bb3e-a43a63340810",
   "metadata": {},
   "outputs": [
    {
     "name": "stdout",
     "output_type": "stream",
     "text": [
      "Acurácia do modelo: 73.00%\n"
     ]
    }
   ],
   "source": [
    "# Importar as bibliotecas necessárias\n",
    "import numpy as np\n",
    "from sklearn.model_selection import train_test_split\n",
    "from sklearn.tree import DecisionTreeClassifier\n",
    "from sklearn.metrics import accuracy_score\n",
    "\n",
    "# Criar os dados simulados\n",
    "idade = np.random.randint(18, 65, 1000)\n",
    "genero = np.random.choice(['masculino', 'feminino'], size=1000)\n",
    "interesse = np.random.choice(['esportes', 'moda', 'tecnologia'], size=1000)\n",
    "compartilhou_post = np.random.choice([0, 1], size=1000, p=[0.7, 0.3])\n",
    "\n",
    "# Criar um dicionário com os dados simulados\n",
    "dados = {'idade': idade,\n",
    "         'genero': genero,\n",
    "         'interesse': interesse,\n",
    "         'compartilhou_post': compartilhou_post}\n",
    "\n",
    "# Transformar o dicionário em um dataframe do pandas\n",
    "import pandas as pd\n",
    "df = pd.DataFrame(data=dados)\n",
    "\n",
    "# Transformar as variáveis categóricas em variáveis numéricas\n",
    "df['genero'] = df['genero'].map({'masculino': 0, 'feminino': 1})\n",
    "df = pd.get_dummies(df, columns=['interesse'])\n",
    "\n",
    "# Dividir os dados em conjunto de treinamento e teste\n",
    "X_train, X_test, y_train, y_test = train_test_split(df.drop('compartilhou_post', axis=1), df['compartilhou_post'], test_size=0.2, random_state=42)\n",
    "\n",
    "# Treinar o modelo de árvore de decisão\n",
    "tree = DecisionTreeClassifier(max_depth=2)\n",
    "tree.fit(X_train, y_train)\n",
    "\n",
    "# Fazer previsões no conjunto de teste\n",
    "y_pred = tree.predict(X_test)\n",
    "\n",
    "# Calcular a acurácia do modelo\n",
    "accuracy = accuracy_score(y_test, y_pred)\n",
    "\n",
    "# Imprimir a acurácia do modelo\n",
    "print(\"Acurácia do modelo: {:.2f}%\".format(accuracy*100))\n"
   ]
  },
  {
   "cell_type": "code",
   "execution_count": null,
   "id": "5cc171fa-2a24-4433-b724-fcc8e982a262",
   "metadata": {},
   "outputs": [],
   "source": []
  }
 ],
 "metadata": {
  "kernelspec": {
   "display_name": "Python 3 (ipykernel)",
   "language": "python",
   "name": "python3"
  },
  "language_info": {
   "codemirror_mode": {
    "name": "ipython",
    "version": 3
   },
   "file_extension": ".py",
   "mimetype": "text/x-python",
   "name": "python",
   "nbconvert_exporter": "python",
   "pygments_lexer": "ipython3",
   "version": "3.10.9"
  }
 },
 "nbformat": 4,
 "nbformat_minor": 5
}
