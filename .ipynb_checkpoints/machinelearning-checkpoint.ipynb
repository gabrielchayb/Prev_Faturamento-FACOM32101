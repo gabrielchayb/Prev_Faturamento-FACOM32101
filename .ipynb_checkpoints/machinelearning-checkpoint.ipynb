{
 "cells": [
  {
   "cell_type": "code",
   "execution_count": 285,
   "id": "a5ec2865-6cfe-42eb-bb3e-a43a63340810",
   "metadata": {},
   "outputs": [
    {
     "name": "stdout",
     "output_type": "stream",
     "text": [
      "Accuracy: 66.66666666666666%\n"
     ]
    }
   ],
   "source": [
    "import pandas as pd\n",
    "\n",
    "# carrega os dados do arquivo CSV em um DataFrame\n",
    "dados = pd.read_csv(\"dados.csv\")\n",
    "\n",
    "# converte a coluna \"genero\" em colunas numéricas usando get_dummies\n",
    "dados = pd.get_dummies(dados, columns=[\"genero\"])\n",
    "\n",
    "# divide os dados em conjunto de treino e teste\n",
    "from sklearn.model_selection import train_test_split\n",
    "X = dados.drop(\"compartilhou\", axis=1)\n",
    "y = dados[\"compartilhou\"]\n",
    "X_train, X_test, y_train, y_test = train_test_split(X, y, test_size=0.2)\n",
    "\n",
    "# treina o modelo de Decision Tree\n",
    "from sklearn.tree import DecisionTreeClassifier\n",
    "modelo = DecisionTreeClassifier()\n",
    "modelo.fit(X_train, y_train)\n",
    "\n",
    "# faz a previsão e calcula a precisão\n",
    "from sklearn.metrics import accuracy_score\n",
    "y_pred = modelo.predict(X_test)\n",
    "precisao = accuracy_score(y_test, y_pred)\n",
    "print(f\"Accuracy: {precisao*100}%\")\n",
    "\n"
   ]
  },
  {
   "cell_type": "code",
   "execution_count": 278,
   "id": "bb7c6f7d",
   "metadata": {},
   "outputs": [
    {
     "name": "stdout",
     "output_type": "stream",
     "text": [
      "Accuracy: 50.5%\n"
     ]
    }
   ],
   "source": []
  },
  {
   "cell_type": "code",
   "execution_count": 280,
   "id": "5cc171fa-2a24-4433-b724-fcc8e982a262",
   "metadata": {},
   "outputs": [],
   "source": [
    "import random\n",
    "import csv\n",
    "\n",
    "# define as possibilidades para cada coluna\n",
    "idades = list(range(18, 90))\n",
    "generos = ['M', 'F']\n",
    "num_amigos = list(range(0, 1001))\n",
    "num_seguidores = list(range(0, 1001))\n",
    "num_postagens = list(range(0, 101))\n",
    "tempo_ultima_postagem = list(range(0, 366))\n",
    "compartilhou = [0, 1]\n",
    "\n",
    "# escreve os dados em um arquivo csv\n",
    "with open('dados.csv', mode='w', newline='') as file:\n",
    "    writer = csv.writer(file)\n",
    "    \n",
    "    # escreve o cabeçalho\n",
    "    writer.writerow(['idade', 'genero', 'num_amigos', 'num_seguidores', 'num_postagens', 'tempo_ultima_postagem', 'compartilhou'])\n",
    "    \n",
    "    # escreve as linhas com valores aleatórios\n",
    "    for i in range(100):\n",
    "        idade = random.choice(idades)\n",
    "        genero = random.choice(generos)\n",
    "        num_amigos_ = random.choice(num_amigos)\n",
    "        num_seguidores_ = random.choice(num_seguidores)\n",
    "        num_postagens_ = random.choice(num_postagens)\n",
    "        tempo_ultima_postagem_ = random.choice(tempo_ultima_postagem)\n",
    "        compartilhou_ = random.choice(compartilhou)\n",
    "        writer.writerow([idade, genero, num_amigos_, num_seguidores_, num_postagens_, tempo_ultima_postagem_, compartilhou_])"
   ]
  }
 ],
 "metadata": {
  "kernelspec": {
   "display_name": "Python 3 (ipykernel)",
   "language": "python",
   "name": "python3"
  },
  "language_info": {
   "codemirror_mode": {
    "name": "ipython",
    "version": 3
   },
   "file_extension": ".py",
   "mimetype": "text/x-python",
   "name": "python",
   "nbconvert_exporter": "python",
   "pygments_lexer": "ipython3",
   "version": "3.10.9"
  }
 },
 "nbformat": 4,
 "nbformat_minor": 5
}
